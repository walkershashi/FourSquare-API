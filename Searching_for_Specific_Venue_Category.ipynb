{
  "nbformat": 4,
  "nbformat_minor": 0,
  "metadata": {
    "kernelspec": {
      "display_name": "Python",
      "language": "python",
      "name": "conda-env-python-py"
    },
    "language_info": {
      "codemirror_mode": {
        "name": "ipython",
        "version": 3
      },
      "file_extension": ".py",
      "mimetype": "text/x-python",
      "name": "python",
      "nbconvert_exporter": "python",
      "pygments_lexer": "ipython3",
      "version": "3.6.10"
    },
    "colab": {
      "name": "Searching for Specific Venue Category.ipynb",
      "provenance": [],
      "toc_visible": true,
      "include_colab_link": true
    }
  },
  "cells": [
    {
      "cell_type": "markdown",
      "metadata": {
        "id": "view-in-github",
        "colab_type": "text"
      },
      "source": [
        "<a href=\"https://colab.research.google.com/github/walkershashi/FourSquare-API/blob/master/Searching_for_Specific_Venue_Category.ipynb\" target=\"_parent\"><img src=\"https://colab.research.google.com/assets/colab-badge.svg\" alt=\"Open In Colab\"/></a>"
      ]
    },
    {
      "cell_type": "code",
      "metadata": {
        "id": "XyAtz2EsRmYb",
        "colab_type": "code",
        "colab": {
          "base_uri": "https://localhost:8080/",
          "height": 34
        },
        "outputId": "5c0d864f-59d5-4c00-99d1-f812446aab6b"
      },
      "source": [
        "from geopy.geocoders import Nominatim # module to convert an address into latitude and longitude values\n",
        "import folium # plotting library\n",
        "\n",
        "print('Installed')"
      ],
      "execution_count": 5,
      "outputs": [
        {
          "output_type": "stream",
          "text": [
            "Installed\n"
          ],
          "name": "stdout"
        }
      ]
    },
    {
      "cell_type": "code",
      "metadata": {
        "id": "LtopwxhrRmYn",
        "colab_type": "code",
        "colab": {
          "base_uri": "https://localhost:8080/",
          "height": 34
        },
        "outputId": "0d393265-e3de-4387-f283-19d3beda725f"
      },
      "source": [
        "import requests # library to handle requests\n",
        "import pandas as pd # library for data analsysis\n",
        "import numpy as np # library to handle data in a vectorized manner\n",
        "import random # library for random number generation\n",
        "\n",
        "# libraries for displaying images\n",
        "from IPython.display import Image \n",
        "from IPython.core.display import HTML \n",
        "    \n",
        "# tranforming json file into a pandas dataframe library\n",
        "from pandas.io.json import json_normalize\n",
        "\n",
        "print('Libraries imported.')"
      ],
      "execution_count": 6,
      "outputs": [
        {
          "output_type": "stream",
          "text": [
            "Libraries imported.\n"
          ],
          "name": "stdout"
        }
      ]
    },
    {
      "cell_type": "code",
      "metadata": {
        "id": "-SSBLgOURmYv",
        "colab_type": "code",
        "colab": {}
      },
      "source": [
        "CLIENT_ID = 'OECZ01BUCTDUDGR0YUA4VKHV1T4COOU5535O5OKPCJFEAU3F' # your Foursquare ID\n",
        "CLIENT_SECRET = 'FETLWMYN0AT51PPEKTIYBFRENECKX1OBTUMNN5U2BHI3TH0K' # your Foursquare Secret\n",
        "VERSION = '20180604'\n",
        "LIMIT = 30"
      ],
      "execution_count": 7,
      "outputs": []
    },
    {
      "cell_type": "code",
      "metadata": {
        "id": "hgDVz38GRmY3",
        "colab_type": "code",
        "colab": {
          "base_uri": "https://localhost:8080/",
          "height": 34
        },
        "outputId": "5333e33d-59df-4078-b905-5a1f7ae3e664"
      },
      "source": [
        "address = '102 North End Ave, New York, NY'\n",
        "\n",
        "geolocator = Nominatim(user_agent=\"foursquare_agent\")\n",
        "location = geolocator.geocode(address)\n",
        "latitude = location.latitude\n",
        "longitude = location.longitude\n",
        "print(latitude, longitude)"
      ],
      "execution_count": 8,
      "outputs": [
        {
          "output_type": "stream",
          "text": [
            "40.7151482 -74.0156573\n"
          ],
          "name": "stdout"
        }
      ]
    },
    {
      "cell_type": "code",
      "metadata": {
        "id": "vfDlmQvrRmY_",
        "colab_type": "code",
        "colab": {
          "base_uri": "https://localhost:8080/",
          "height": 34
        },
        "outputId": "3eae622a-d857-424a-926e-adb4d8752847"
      },
      "source": [
        "search_query = 'gym'\n",
        "radius = 500\n",
        "print(search_query + ' .... OK!')"
      ],
      "execution_count": 9,
      "outputs": [
        {
          "output_type": "stream",
          "text": [
            "gym .... OK!\n"
          ],
          "name": "stdout"
        }
      ]
    },
    {
      "cell_type": "code",
      "metadata": {
        "id": "33fjAk3MRmZH",
        "colab_type": "code",
        "colab": {}
      },
      "source": [
        "url = 'https://api.foursquare.com/v2/venues/search?client_id={}&client_secret={}&ll={},{}&v={}&query={}&radius={}&limit={}'.format(CLIENT_ID, CLIENT_SECRET, latitude, longitude, VERSION, search_query, radius, LIMIT)\n"
      ],
      "execution_count": 11,
      "outputs": []
    },
    {
      "cell_type": "code",
      "metadata": {
        "id": "_ilrQvIURmZP",
        "colab_type": "code",
        "colab": {}
      },
      "source": [
        "results = requests.get(url).json()\n",
        "#results"
      ],
      "execution_count": 12,
      "outputs": []
    },
    {
      "cell_type": "code",
      "metadata": {
        "id": "Dky9n1-bRmZX",
        "colab_type": "code",
        "colab": {
          "base_uri": "https://localhost:8080/",
          "height": 496
        },
        "outputId": "bab76708-814a-4c76-baba-0e4d127eaaa2"
      },
      "source": [
        "venues = results['response']['venues']\n",
        "venues_df = json_normalize(venues)\n",
        "venues_df.head()"
      ],
      "execution_count": 13,
      "outputs": [
        {
          "output_type": "stream",
          "text": [
            "/usr/local/lib/python3.6/dist-packages/ipykernel_launcher.py:2: FutureWarning: pandas.io.json.json_normalize is deprecated, use pandas.json_normalize instead\n",
            "  \n"
          ],
          "name": "stderr"
        },
        {
          "output_type": "execute_result",
          "data": {
            "text/html": [
              "<div>\n",
              "<style scoped>\n",
              "    .dataframe tbody tr th:only-of-type {\n",
              "        vertical-align: middle;\n",
              "    }\n",
              "\n",
              "    .dataframe tbody tr th {\n",
              "        vertical-align: top;\n",
              "    }\n",
              "\n",
              "    .dataframe thead th {\n",
              "        text-align: right;\n",
              "    }\n",
              "</style>\n",
              "<table border=\"1\" class=\"dataframe\">\n",
              "  <thead>\n",
              "    <tr style=\"text-align: right;\">\n",
              "      <th></th>\n",
              "      <th>id</th>\n",
              "      <th>name</th>\n",
              "      <th>categories</th>\n",
              "      <th>referralId</th>\n",
              "      <th>hasPerk</th>\n",
              "      <th>location.address</th>\n",
              "      <th>location.lat</th>\n",
              "      <th>location.lng</th>\n",
              "      <th>location.labeledLatLngs</th>\n",
              "      <th>location.distance</th>\n",
              "      <th>location.postalCode</th>\n",
              "      <th>location.cc</th>\n",
              "      <th>location.city</th>\n",
              "      <th>location.state</th>\n",
              "      <th>location.country</th>\n",
              "      <th>location.formattedAddress</th>\n",
              "      <th>location.crossStreet</th>\n",
              "      <th>venuePage.id</th>\n",
              "    </tr>\n",
              "  </thead>\n",
              "  <tbody>\n",
              "    <tr>\n",
              "      <th>0</th>\n",
              "      <td>4c8f73d24e95236ac70084ca</td>\n",
              "      <td>Gym @ St. John's</td>\n",
              "      <td>[{'id': '4bf58dd8d48988d175941735', 'name': 'G...</td>\n",
              "      <td>v-1595953686</td>\n",
              "      <td>False</td>\n",
              "      <td>101 Murray St</td>\n",
              "      <td>40.715446</td>\n",
              "      <td>-74.012627</td>\n",
              "      <td>[{'label': 'display', 'lat': 40.71544647216797...</td>\n",
              "      <td>257</td>\n",
              "      <td>10007</td>\n",
              "      <td>US</td>\n",
              "      <td>New York</td>\n",
              "      <td>NY</td>\n",
              "      <td>United States</td>\n",
              "      <td>[101 Murray St, New York, NY 10007, United Sta...</td>\n",
              "      <td>NaN</td>\n",
              "      <td>NaN</td>\n",
              "    </tr>\n",
              "    <tr>\n",
              "      <th>1</th>\n",
              "      <td>5a595db6fe374079de98f6b5</td>\n",
              "      <td>Gym at Battery Park City Community Center</td>\n",
              "      <td>[{'id': '4bf58dd8d48988d175941735', 'name': 'G...</td>\n",
              "      <td>v-1595953686</td>\n",
              "      <td>False</td>\n",
              "      <td>NaN</td>\n",
              "      <td>40.717914</td>\n",
              "      <td>-74.013884</td>\n",
              "      <td>[{'label': 'display', 'lat': 40.717914, 'lng':...</td>\n",
              "      <td>342</td>\n",
              "      <td>10282</td>\n",
              "      <td>US</td>\n",
              "      <td>New York</td>\n",
              "      <td>NY</td>\n",
              "      <td>United States</td>\n",
              "      <td>[New York, NY 10282, United States]</td>\n",
              "      <td>NaN</td>\n",
              "      <td>NaN</td>\n",
              "    </tr>\n",
              "    <tr>\n",
              "      <th>2</th>\n",
              "      <td>4c8d0269f87e224bf4c13905</td>\n",
              "      <td>89 Murray Gym</td>\n",
              "      <td>[{'id': '4bf58dd8d48988d176941735', 'name': 'G...</td>\n",
              "      <td>v-1595953686</td>\n",
              "      <td>False</td>\n",
              "      <td>89 Murray St</td>\n",
              "      <td>40.715630</td>\n",
              "      <td>-74.012115</td>\n",
              "      <td>[{'label': 'display', 'lat': 40.71562957763672...</td>\n",
              "      <td>303</td>\n",
              "      <td>10007</td>\n",
              "      <td>US</td>\n",
              "      <td>New York</td>\n",
              "      <td>NY</td>\n",
              "      <td>United States</td>\n",
              "      <td>[89 Murray St, New York, NY 10007, United States]</td>\n",
              "      <td>NaN</td>\n",
              "      <td>NaN</td>\n",
              "    </tr>\n",
              "    <tr>\n",
              "      <th>3</th>\n",
              "      <td>4cc1c0a667a3b1f7c29fca0e</td>\n",
              "      <td>Stuyvesant High School (3rd floor gym)</td>\n",
              "      <td>[{'id': '4bf58dd8d48988d1a7941735', 'name': 'C...</td>\n",
              "      <td>v-1595953686</td>\n",
              "      <td>False</td>\n",
              "      <td>345 Chambers St</td>\n",
              "      <td>40.717884</td>\n",
              "      <td>-74.013908</td>\n",
              "      <td>[{'label': 'display', 'lat': 40.7178840637207,...</td>\n",
              "      <td>338</td>\n",
              "      <td>10282</td>\n",
              "      <td>US</td>\n",
              "      <td>New York</td>\n",
              "      <td>NY</td>\n",
              "      <td>United States</td>\n",
              "      <td>[345 Chambers St, New York, NY 10282, United S...</td>\n",
              "      <td>NaN</td>\n",
              "      <td>NaN</td>\n",
              "    </tr>\n",
              "    <tr>\n",
              "      <th>4</th>\n",
              "      <td>4c0d68c8336220a1c2adca77</td>\n",
              "      <td>Millenium Hilton Gym</td>\n",
              "      <td>[{'id': '4bf58dd8d48988d176941735', 'name': 'G...</td>\n",
              "      <td>v-1595953686</td>\n",
              "      <td>False</td>\n",
              "      <td>55 Church St</td>\n",
              "      <td>40.711673</td>\n",
              "      <td>-74.011149</td>\n",
              "      <td>[{'label': 'display', 'lat': 40.71167268972019...</td>\n",
              "      <td>542</td>\n",
              "      <td>10007</td>\n",
              "      <td>US</td>\n",
              "      <td>New York</td>\n",
              "      <td>NY</td>\n",
              "      <td>United States</td>\n",
              "      <td>[55 Church St, New York, NY 10007, United States]</td>\n",
              "      <td>NaN</td>\n",
              "      <td>NaN</td>\n",
              "    </tr>\n",
              "  </tbody>\n",
              "</table>\n",
              "</div>"
            ],
            "text/plain": [
              "                         id  ... venuePage.id\n",
              "0  4c8f73d24e95236ac70084ca  ...          NaN\n",
              "1  5a595db6fe374079de98f6b5  ...          NaN\n",
              "2  4c8d0269f87e224bf4c13905  ...          NaN\n",
              "3  4cc1c0a667a3b1f7c29fca0e  ...          NaN\n",
              "4  4c0d68c8336220a1c2adca77  ...          NaN\n",
              "\n",
              "[5 rows x 18 columns]"
            ]
          },
          "metadata": {
            "tags": []
          },
          "execution_count": 13
        }
      ]
    },
    {
      "cell_type": "code",
      "metadata": {
        "id": "YuYVS6NlRmZf",
        "colab_type": "code",
        "colab": {
          "base_uri": "https://localhost:8080/",
          "height": 462
        },
        "outputId": "378ce367-cba1-4c8c-f72d-c48fe4154984"
      },
      "source": [
        "venues_id = venues_df[['id']]\n",
        "venues_df = venues_df.drop(['id', 'referralId', 'hasPerk', 'location.labeledLatLngs', 'location.cc', 'location.crossStreet', 'venuePage.id'], axis = 1)\n",
        "venues_df = pd.concat([venues_df, venues_id], axis = 1)\n",
        "\n",
        "venues_df.head()"
      ],
      "execution_count": 14,
      "outputs": [
        {
          "output_type": "execute_result",
          "data": {
            "text/html": [
              "<div>\n",
              "<style scoped>\n",
              "    .dataframe tbody tr th:only-of-type {\n",
              "        vertical-align: middle;\n",
              "    }\n",
              "\n",
              "    .dataframe tbody tr th {\n",
              "        vertical-align: top;\n",
              "    }\n",
              "\n",
              "    .dataframe thead th {\n",
              "        text-align: right;\n",
              "    }\n",
              "</style>\n",
              "<table border=\"1\" class=\"dataframe\">\n",
              "  <thead>\n",
              "    <tr style=\"text-align: right;\">\n",
              "      <th></th>\n",
              "      <th>name</th>\n",
              "      <th>categories</th>\n",
              "      <th>location.address</th>\n",
              "      <th>location.lat</th>\n",
              "      <th>location.lng</th>\n",
              "      <th>location.distance</th>\n",
              "      <th>location.postalCode</th>\n",
              "      <th>location.city</th>\n",
              "      <th>location.state</th>\n",
              "      <th>location.country</th>\n",
              "      <th>location.formattedAddress</th>\n",
              "      <th>id</th>\n",
              "    </tr>\n",
              "  </thead>\n",
              "  <tbody>\n",
              "    <tr>\n",
              "      <th>0</th>\n",
              "      <td>Gym @ St. John's</td>\n",
              "      <td>[{'id': '4bf58dd8d48988d175941735', 'name': 'G...</td>\n",
              "      <td>101 Murray St</td>\n",
              "      <td>40.715446</td>\n",
              "      <td>-74.012627</td>\n",
              "      <td>257</td>\n",
              "      <td>10007</td>\n",
              "      <td>New York</td>\n",
              "      <td>NY</td>\n",
              "      <td>United States</td>\n",
              "      <td>[101 Murray St, New York, NY 10007, United Sta...</td>\n",
              "      <td>4c8f73d24e95236ac70084ca</td>\n",
              "    </tr>\n",
              "    <tr>\n",
              "      <th>1</th>\n",
              "      <td>Gym at Battery Park City Community Center</td>\n",
              "      <td>[{'id': '4bf58dd8d48988d175941735', 'name': 'G...</td>\n",
              "      <td>NaN</td>\n",
              "      <td>40.717914</td>\n",
              "      <td>-74.013884</td>\n",
              "      <td>342</td>\n",
              "      <td>10282</td>\n",
              "      <td>New York</td>\n",
              "      <td>NY</td>\n",
              "      <td>United States</td>\n",
              "      <td>[New York, NY 10282, United States]</td>\n",
              "      <td>5a595db6fe374079de98f6b5</td>\n",
              "    </tr>\n",
              "    <tr>\n",
              "      <th>2</th>\n",
              "      <td>89 Murray Gym</td>\n",
              "      <td>[{'id': '4bf58dd8d48988d176941735', 'name': 'G...</td>\n",
              "      <td>89 Murray St</td>\n",
              "      <td>40.715630</td>\n",
              "      <td>-74.012115</td>\n",
              "      <td>303</td>\n",
              "      <td>10007</td>\n",
              "      <td>New York</td>\n",
              "      <td>NY</td>\n",
              "      <td>United States</td>\n",
              "      <td>[89 Murray St, New York, NY 10007, United States]</td>\n",
              "      <td>4c8d0269f87e224bf4c13905</td>\n",
              "    </tr>\n",
              "    <tr>\n",
              "      <th>3</th>\n",
              "      <td>Stuyvesant High School (3rd floor gym)</td>\n",
              "      <td>[{'id': '4bf58dd8d48988d1a7941735', 'name': 'C...</td>\n",
              "      <td>345 Chambers St</td>\n",
              "      <td>40.717884</td>\n",
              "      <td>-74.013908</td>\n",
              "      <td>338</td>\n",
              "      <td>10282</td>\n",
              "      <td>New York</td>\n",
              "      <td>NY</td>\n",
              "      <td>United States</td>\n",
              "      <td>[345 Chambers St, New York, NY 10282, United S...</td>\n",
              "      <td>4cc1c0a667a3b1f7c29fca0e</td>\n",
              "    </tr>\n",
              "    <tr>\n",
              "      <th>4</th>\n",
              "      <td>Millenium Hilton Gym</td>\n",
              "      <td>[{'id': '4bf58dd8d48988d176941735', 'name': 'G...</td>\n",
              "      <td>55 Church St</td>\n",
              "      <td>40.711673</td>\n",
              "      <td>-74.011149</td>\n",
              "      <td>542</td>\n",
              "      <td>10007</td>\n",
              "      <td>New York</td>\n",
              "      <td>NY</td>\n",
              "      <td>United States</td>\n",
              "      <td>[55 Church St, New York, NY 10007, United States]</td>\n",
              "      <td>4c0d68c8336220a1c2adca77</td>\n",
              "    </tr>\n",
              "  </tbody>\n",
              "</table>\n",
              "</div>"
            ],
            "text/plain": [
              "                                        name  ...                        id\n",
              "0                           Gym @ St. John's  ...  4c8f73d24e95236ac70084ca\n",
              "1  Gym at Battery Park City Community Center  ...  5a595db6fe374079de98f6b5\n",
              "2                              89 Murray Gym  ...  4c8d0269f87e224bf4c13905\n",
              "3     Stuyvesant High School (3rd floor gym)  ...  4cc1c0a667a3b1f7c29fca0e\n",
              "4                       Millenium Hilton Gym  ...  4c0d68c8336220a1c2adca77\n",
              "\n",
              "[5 rows x 12 columns]"
            ]
          },
          "metadata": {
            "tags": []
          },
          "execution_count": 14
        }
      ]
    },
    {
      "cell_type": "code",
      "metadata": {
        "id": "yAzQD9teRmZn",
        "colab_type": "code",
        "colab": {
          "base_uri": "https://localhost:8080/",
          "height": 374
        },
        "outputId": "a4b9c8ae-e02c-4f4b-ad13-fc8479248a59"
      },
      "source": [
        "filtered_columns = ['name', 'categories'] + [col for col in venues_df.columns if col.startswith('location.')] + ['id']\n",
        "columns = [column.split('.')[-1] for column in filtered_columns]\n",
        "        \n",
        "venues_df.columns = columns\n",
        "\n",
        "for i in range(venues_df.shape[0]):\n",
        "    venues_df['categories'][i] = venues_df['categories'][i][0]['name']\n",
        "\n",
        "venues_df.head()"
      ],
      "execution_count": 15,
      "outputs": [
        {
          "output_type": "stream",
          "text": [
            "/usr/local/lib/python3.6/dist-packages/ipykernel_launcher.py:7: SettingWithCopyWarning: \n",
            "A value is trying to be set on a copy of a slice from a DataFrame\n",
            "\n",
            "See the caveats in the documentation: https://pandas.pydata.org/pandas-docs/stable/user_guide/indexing.html#returning-a-view-versus-a-copy\n",
            "  import sys\n"
          ],
          "name": "stderr"
        },
        {
          "output_type": "execute_result",
          "data": {
            "text/html": [
              "<div>\n",
              "<style scoped>\n",
              "    .dataframe tbody tr th:only-of-type {\n",
              "        vertical-align: middle;\n",
              "    }\n",
              "\n",
              "    .dataframe tbody tr th {\n",
              "        vertical-align: top;\n",
              "    }\n",
              "\n",
              "    .dataframe thead th {\n",
              "        text-align: right;\n",
              "    }\n",
              "</style>\n",
              "<table border=\"1\" class=\"dataframe\">\n",
              "  <thead>\n",
              "    <tr style=\"text-align: right;\">\n",
              "      <th></th>\n",
              "      <th>name</th>\n",
              "      <th>categories</th>\n",
              "      <th>address</th>\n",
              "      <th>lat</th>\n",
              "      <th>lng</th>\n",
              "      <th>distance</th>\n",
              "      <th>postalCode</th>\n",
              "      <th>city</th>\n",
              "      <th>state</th>\n",
              "      <th>country</th>\n",
              "      <th>formattedAddress</th>\n",
              "      <th>id</th>\n",
              "    </tr>\n",
              "  </thead>\n",
              "  <tbody>\n",
              "    <tr>\n",
              "      <th>0</th>\n",
              "      <td>Gym @ St. John's</td>\n",
              "      <td>Gym / Fitness Center</td>\n",
              "      <td>101 Murray St</td>\n",
              "      <td>40.715446</td>\n",
              "      <td>-74.012627</td>\n",
              "      <td>257</td>\n",
              "      <td>10007</td>\n",
              "      <td>New York</td>\n",
              "      <td>NY</td>\n",
              "      <td>United States</td>\n",
              "      <td>[101 Murray St, New York, NY 10007, United Sta...</td>\n",
              "      <td>4c8f73d24e95236ac70084ca</td>\n",
              "    </tr>\n",
              "    <tr>\n",
              "      <th>1</th>\n",
              "      <td>Gym at Battery Park City Community Center</td>\n",
              "      <td>Gym / Fitness Center</td>\n",
              "      <td>NaN</td>\n",
              "      <td>40.717914</td>\n",
              "      <td>-74.013884</td>\n",
              "      <td>342</td>\n",
              "      <td>10282</td>\n",
              "      <td>New York</td>\n",
              "      <td>NY</td>\n",
              "      <td>United States</td>\n",
              "      <td>[New York, NY 10282, United States]</td>\n",
              "      <td>5a595db6fe374079de98f6b5</td>\n",
              "    </tr>\n",
              "    <tr>\n",
              "      <th>2</th>\n",
              "      <td>89 Murray Gym</td>\n",
              "      <td>Gym</td>\n",
              "      <td>89 Murray St</td>\n",
              "      <td>40.715630</td>\n",
              "      <td>-74.012115</td>\n",
              "      <td>303</td>\n",
              "      <td>10007</td>\n",
              "      <td>New York</td>\n",
              "      <td>NY</td>\n",
              "      <td>United States</td>\n",
              "      <td>[89 Murray St, New York, NY 10007, United States]</td>\n",
              "      <td>4c8d0269f87e224bf4c13905</td>\n",
              "    </tr>\n",
              "    <tr>\n",
              "      <th>3</th>\n",
              "      <td>Stuyvesant High School (3rd floor gym)</td>\n",
              "      <td>College Library</td>\n",
              "      <td>345 Chambers St</td>\n",
              "      <td>40.717884</td>\n",
              "      <td>-74.013908</td>\n",
              "      <td>338</td>\n",
              "      <td>10282</td>\n",
              "      <td>New York</td>\n",
              "      <td>NY</td>\n",
              "      <td>United States</td>\n",
              "      <td>[345 Chambers St, New York, NY 10282, United S...</td>\n",
              "      <td>4cc1c0a667a3b1f7c29fca0e</td>\n",
              "    </tr>\n",
              "    <tr>\n",
              "      <th>4</th>\n",
              "      <td>Millenium Hilton Gym</td>\n",
              "      <td>Gym</td>\n",
              "      <td>55 Church St</td>\n",
              "      <td>40.711673</td>\n",
              "      <td>-74.011149</td>\n",
              "      <td>542</td>\n",
              "      <td>10007</td>\n",
              "      <td>New York</td>\n",
              "      <td>NY</td>\n",
              "      <td>United States</td>\n",
              "      <td>[55 Church St, New York, NY 10007, United States]</td>\n",
              "      <td>4c0d68c8336220a1c2adca77</td>\n",
              "    </tr>\n",
              "  </tbody>\n",
              "</table>\n",
              "</div>"
            ],
            "text/plain": [
              "                                        name  ...                        id\n",
              "0                           Gym @ St. John's  ...  4c8f73d24e95236ac70084ca\n",
              "1  Gym at Battery Park City Community Center  ...  5a595db6fe374079de98f6b5\n",
              "2                              89 Murray Gym  ...  4c8d0269f87e224bf4c13905\n",
              "3     Stuyvesant High School (3rd floor gym)  ...  4cc1c0a667a3b1f7c29fca0e\n",
              "4                       Millenium Hilton Gym  ...  4c0d68c8336220a1c2adca77\n",
              "\n",
              "[5 rows x 12 columns]"
            ]
          },
          "metadata": {
            "tags": []
          },
          "execution_count": 15
        }
      ]
    },
    {
      "cell_type": "code",
      "metadata": {
        "id": "TCpFa_79RmZu",
        "colab_type": "code",
        "colab": {
          "base_uri": "https://localhost:8080/",
          "height": 875
        },
        "outputId": "b8e34095-7d5b-4a95-e61f-26d40abd7a52"
      },
      "source": [
        "# Add a marker to the current location\n",
        "\n",
        "venues_map = folium.Map(location = [latitude, longitude], zoom_start = 15)\n",
        "\n",
        "folium.CircleMarker(\n",
        "    [latitude, longitude],\n",
        "    radius = 10,\n",
        "    color = 'red',\n",
        "    popup = 'Your Location',\n",
        "    fill = True,\n",
        "    fill_color = 'red',\n",
        "    fill_opacity = 0.6\n",
        ").add_to(venues_map)\n",
        "\n",
        "\n",
        "venues_map"
      ],
      "execution_count": 16,
      "outputs": [
        {
          "output_type": "execute_result",
          "data": {
            "text/html": [
              "<div style=\"width:100%;\"><div style=\"position:relative;width:100%;height:0;padding-bottom:60%;\"><span style=\"color:#565656\">Make this Notebook Trusted to load map: File -> Trust Notebook</span><iframe src=\"about:blank\" style=\"position:absolute;width:100%;height:100%;left:0;top:0;border:none !important;\" data-html=PCFET0NUWVBFIGh0bWw+CjxoZWFkPiAgICAKICAgIDxtZXRhIGh0dHAtZXF1aXY9ImNvbnRlbnQtdHlwZSIgY29udGVudD0idGV4dC9odG1sOyBjaGFyc2V0PVVURi04IiAvPgogICAgPHNjcmlwdD5MX1BSRUZFUl9DQU5WQVM9ZmFsc2U7IExfTk9fVE9VQ0g9ZmFsc2U7IExfRElTQUJMRV8zRD1mYWxzZTs8L3NjcmlwdD4KICAgIDxzY3JpcHQgc3JjPSJodHRwczovL2Nkbi5qc2RlbGl2ci5uZXQvbnBtL2xlYWZsZXRAMS40LjAvZGlzdC9sZWFmbGV0LmpzIj48L3NjcmlwdD4KICAgIDxzY3JpcHQgc3JjPSJodHRwczovL2NvZGUuanF1ZXJ5LmNvbS9qcXVlcnktMS4xMi40Lm1pbi5qcyI+PC9zY3JpcHQ+CiAgICA8c2NyaXB0IHNyYz0iaHR0cHM6Ly9tYXhjZG4uYm9vdHN0cmFwY2RuLmNvbS9ib290c3RyYXAvMy4yLjAvanMvYm9vdHN0cmFwLm1pbi5qcyI+PC9zY3JpcHQ+CiAgICA8c2NyaXB0IHNyYz0iaHR0cHM6Ly9jZG5qcy5jbG91ZGZsYXJlLmNvbS9hamF4L2xpYnMvTGVhZmxldC5hd2Vzb21lLW1hcmtlcnMvMi4wLjIvbGVhZmxldC5hd2Vzb21lLW1hcmtlcnMuanMiPjwvc2NyaXB0PgogICAgPGxpbmsgcmVsPSJzdHlsZXNoZWV0IiBocmVmPSJodHRwczovL2Nkbi5qc2RlbGl2ci5uZXQvbnBtL2xlYWZsZXRAMS40LjAvZGlzdC9sZWFmbGV0LmNzcyIvPgogICAgPGxpbmsgcmVsPSJzdHlsZXNoZWV0IiBocmVmPSJodHRwczovL21heGNkbi5ib290c3RyYXBjZG4uY29tL2Jvb3RzdHJhcC8zLjIuMC9jc3MvYm9vdHN0cmFwLm1pbi5jc3MiLz4KICAgIDxsaW5rIHJlbD0ic3R5bGVzaGVldCIgaHJlZj0iaHR0cHM6Ly9tYXhjZG4uYm9vdHN0cmFwY2RuLmNvbS9ib290c3RyYXAvMy4yLjAvY3NzL2Jvb3RzdHJhcC10aGVtZS5taW4uY3NzIi8+CiAgICA8bGluayByZWw9InN0eWxlc2hlZXQiIGhyZWY9Imh0dHBzOi8vbWF4Y2RuLmJvb3RzdHJhcGNkbi5jb20vZm9udC1hd2Vzb21lLzQuNi4zL2Nzcy9mb250LWF3ZXNvbWUubWluLmNzcyIvPgogICAgPGxpbmsgcmVsPSJzdHlsZXNoZWV0IiBocmVmPSJodHRwczovL2NkbmpzLmNsb3VkZmxhcmUuY29tL2FqYXgvbGlicy9MZWFmbGV0LmF3ZXNvbWUtbWFya2Vycy8yLjAuMi9sZWFmbGV0LmF3ZXNvbWUtbWFya2Vycy5jc3MiLz4KICAgIDxsaW5rIHJlbD0ic3R5bGVzaGVldCIgaHJlZj0iaHR0cHM6Ly9yYXdjZG4uZ2l0aGFjay5jb20vcHl0aG9uLXZpc3VhbGl6YXRpb24vZm9saXVtL21hc3Rlci9mb2xpdW0vdGVtcGxhdGVzL2xlYWZsZXQuYXdlc29tZS5yb3RhdGUuY3NzIi8+CiAgICA8c3R5bGU+aHRtbCwgYm9keSB7d2lkdGg6IDEwMCU7aGVpZ2h0OiAxMDAlO21hcmdpbjogMDtwYWRkaW5nOiAwO308L3N0eWxlPgogICAgPHN0eWxlPiNtYXAge3Bvc2l0aW9uOmFic29sdXRlO3RvcDowO2JvdHRvbTowO3JpZ2h0OjA7bGVmdDowO308L3N0eWxlPgogICAgCiAgICA8bWV0YSBuYW1lPSJ2aWV3cG9ydCIgY29udGVudD0id2lkdGg9ZGV2aWNlLXdpZHRoLAogICAgICAgIGluaXRpYWwtc2NhbGU9MS4wLCBtYXhpbXVtLXNjYWxlPTEuMCwgdXNlci1zY2FsYWJsZT1ubyIgLz4KICAgIDxzdHlsZT4jbWFwXzI0ZTUwNTJjZWZiZjQ2Mzg4OGIyMTc2YzhlMTQ2YzU0IHsKICAgICAgICBwb3NpdGlvbjogcmVsYXRpdmU7CiAgICAgICAgd2lkdGg6IDEwMC4wJTsKICAgICAgICBoZWlnaHQ6IDEwMC4wJTsKICAgICAgICBsZWZ0OiAwLjAlOwogICAgICAgIHRvcDogMC4wJTsKICAgICAgICB9CiAgICA8L3N0eWxlPgo8L2hlYWQ+Cjxib2R5PiAgICAKICAgIAogICAgPGRpdiBjbGFzcz0iZm9saXVtLW1hcCIgaWQ9Im1hcF8yNGU1MDUyY2VmYmY0NjM4ODhiMjE3NmM4ZTE0NmM1NCIgPjwvZGl2Pgo8L2JvZHk+CjxzY3JpcHQ+ICAgIAogICAgCiAgICAKICAgICAgICB2YXIgYm91bmRzID0gbnVsbDsKICAgIAoKICAgIHZhciBtYXBfMjRlNTA1MmNlZmJmNDYzODg4YjIxNzZjOGUxNDZjNTQgPSBMLm1hcCgKICAgICAgICAnbWFwXzI0ZTUwNTJjZWZiZjQ2Mzg4OGIyMTc2YzhlMTQ2YzU0JywgewogICAgICAgIGNlbnRlcjogWzQwLjcxNTE0ODIsIC03NC4wMTU2NTczXSwKICAgICAgICB6b29tOiAxNSwKICAgICAgICBtYXhCb3VuZHM6IGJvdW5kcywKICAgICAgICBsYXllcnM6IFtdLAogICAgICAgIHdvcmxkQ29weUp1bXA6IGZhbHNlLAogICAgICAgIGNyczogTC5DUlMuRVBTRzM4NTcsCiAgICAgICAgem9vbUNvbnRyb2w6IHRydWUsCiAgICAgICAgfSk7CgoKICAgIAogICAgdmFyIHRpbGVfbGF5ZXJfNzBhZjEwZGQ4OTk1NGNhYWEzZjBmNzU2NmM1ZmFhYWUgPSBMLnRpbGVMYXllcigKICAgICAgICAnaHR0cHM6Ly97c30udGlsZS5vcGVuc3RyZWV0bWFwLm9yZy97en0ve3h9L3t5fS5wbmcnLAogICAgICAgIHsKICAgICAgICAiYXR0cmlidXRpb24iOiBudWxsLAogICAgICAgICJkZXRlY3RSZXRpbmEiOiBmYWxzZSwKICAgICAgICAibWF4TmF0aXZlWm9vbSI6IDE4LAogICAgICAgICJtYXhab29tIjogMTgsCiAgICAgICAgIm1pblpvb20iOiAwLAogICAgICAgICJub1dyYXAiOiBmYWxzZSwKICAgICAgICAib3BhY2l0eSI6IDEsCiAgICAgICAgInN1YmRvbWFpbnMiOiAiYWJjIiwKICAgICAgICAidG1zIjogZmFsc2UKfSkuYWRkVG8obWFwXzI0ZTUwNTJjZWZiZjQ2Mzg4OGIyMTc2YzhlMTQ2YzU0KTsKICAgIAogICAgICAgICAgICB2YXIgY2lyY2xlX21hcmtlcl82NmVjMmQ5OGRkYjU0NDM5YjQ5ODE5MDEwNDgwN2M4NSA9IEwuY2lyY2xlTWFya2VyKAogICAgICAgICAgICAgICAgWzQwLjcxNTE0ODIsIC03NC4wMTU2NTczXSwKICAgICAgICAgICAgICAgIHsKICAiYnViYmxpbmdNb3VzZUV2ZW50cyI6IHRydWUsCiAgImNvbG9yIjogInJlZCIsCiAgImRhc2hBcnJheSI6IG51bGwsCiAgImRhc2hPZmZzZXQiOiBudWxsLAogICJmaWxsIjogdHJ1ZSwKICAiZmlsbENvbG9yIjogInJlZCIsCiAgImZpbGxPcGFjaXR5IjogMC42LAogICJmaWxsUnVsZSI6ICJldmVub2RkIiwKICAibGluZUNhcCI6ICJyb3VuZCIsCiAgImxpbmVKb2luIjogInJvdW5kIiwKICAib3BhY2l0eSI6IDEuMCwKICAicmFkaXVzIjogMTAsCiAgInN0cm9rZSI6IHRydWUsCiAgIndlaWdodCI6IDMKfQogICAgICAgICAgICAgICAgKQogICAgICAgICAgICAgICAgLmFkZFRvKG1hcF8yNGU1MDUyY2VmYmY0NjM4ODhiMjE3NmM4ZTE0NmM1NCk7CiAgICAgICAgICAgIAogICAgCiAgICAgICAgICAgIHZhciBwb3B1cF8xMzZjY2M2NTU1YjI0Nzc1OTY4MzlmNWYzZmZiNWE3ZCA9IEwucG9wdXAoe21heFdpZHRoOiAnMTAwJScKICAgICAgICAgICAgCiAgICAgICAgICAgIH0pOwoKICAgICAgICAgICAgCiAgICAgICAgICAgICAgICB2YXIgaHRtbF81OTY0MWNiNzNiZDI0N2U5OTZkNWFkZTkzNDkxMTVhYyA9ICQoYDxkaXYgaWQ9Imh0bWxfNTk2NDFjYjczYmQyNDdlOTk2ZDVhZGU5MzQ5MTE1YWMiIHN0eWxlPSJ3aWR0aDogMTAwLjAlOyBoZWlnaHQ6IDEwMC4wJTsiPllvdXIgTG9jYXRpb248L2Rpdj5gKVswXTsKICAgICAgICAgICAgICAgIHBvcHVwXzEzNmNjYzY1NTViMjQ3NzU5NjgzOWY1ZjNmZmI1YTdkLnNldENvbnRlbnQoaHRtbF81OTY0MWNiNzNiZDI0N2U5OTZkNWFkZTkzNDkxMTVhYyk7CiAgICAgICAgICAgIAoKICAgICAgICAgICAgY2lyY2xlX21hcmtlcl82NmVjMmQ5OGRkYjU0NDM5YjQ5ODE5MDEwNDgwN2M4NS5iaW5kUG9wdXAocG9wdXBfMTM2Y2NjNjU1NWIyNDc3NTk2ODM5ZjVmM2ZmYjVhN2QpCiAgICAgICAgICAgIDsKCiAgICAgICAgICAgIAogICAgICAgIAo8L3NjcmlwdD4= onload=\"this.contentDocument.open();this.contentDocument.write(atob(this.getAttribute('data-html')));this.contentDocument.close();\" allowfullscreen webkitallowfullscreen mozallowfullscreen></iframe></div></div>"
            ],
            "text/plain": [
              "<folium.folium.Map at 0x7f14e3e34cf8>"
            ]
          },
          "metadata": {
            "tags": []
          },
          "execution_count": 16
        }
      ]
    },
    {
      "cell_type": "code",
      "metadata": {
        "id": "VhbVYUH9RmZ2",
        "colab_type": "code",
        "colab": {
          "base_uri": "https://localhost:8080/",
          "height": 875
        },
        "outputId": "1345d0c0-daf5-4280-853c-222b0dae0144"
      },
      "source": [
        "# Display marker for the differnet venues\n",
        "\n",
        "for lat, lng, label in zip(venues_df.lat, venues_df.lng, venues_df.categories):\n",
        "    folium.CircleMarker(\n",
        "        [lat, lng],\n",
        "        radius = 5,\n",
        "        color = 'yellow',\n",
        "        fill = True,\n",
        "        fill_color = 'blue',\n",
        "        fill_opacity = 0.6\n",
        "    ).add_to(venues_map)\n",
        "    \n",
        "# Add pop-up text to each marker\n",
        "LATITUDE, LONGITUDE = list(venues_df.lat), list(venues_df.lng)\n",
        "NAME = list(venues_df.name)\n",
        "\n",
        "for lat, lng, label in zip(LATITUDE, LONGITUDE, NAME):\n",
        "    folium.Marker(\n",
        "        [lat, lng],\n",
        "        popup = label\n",
        "    ).add_to(venues_map)\n",
        "    \n",
        "venues_map"
      ],
      "execution_count": 17,
      "outputs": [
        {
          "output_type": "execute_result",
          "data": {
            "text/html": [
              "<div style=\"width:100%;\"><div style=\"position:relative;width:100%;height:0;padding-bottom:60%;\"><span style=\"color:#565656\">Make this Notebook Trusted to load map: File -> Trust Notebook</span><iframe src=\"about:blank\" style=\"position:absolute;width:100%;height:100%;left:0;top:0;border:none !important;\" data-html=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 onload=\"this.contentDocument.open();this.contentDocument.write(atob(this.getAttribute('data-html')));this.contentDocument.close();\" allowfullscreen webkitallowfullscreen mozallowfullscreen></iframe></div></div>"
            ],
            "text/plain": [
              "<folium.folium.Map at 0x7f14e3e34cf8>"
            ]
          },
          "metadata": {
            "tags": []
          },
          "execution_count": 17
        }
      ]
    },
    {
      "cell_type": "code",
      "metadata": {
        "id": "HcM6SfqSRmZ-",
        "colab_type": "code",
        "colab": {}
      },
      "source": [
        ""
      ],
      "execution_count": null,
      "outputs": []
    }
  ]
}